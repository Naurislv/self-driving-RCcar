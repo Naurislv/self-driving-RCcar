{
 "cells": [
  {
   "cell_type": "code",
   "execution_count": 2,
   "metadata": {
    "collapsed": true
   },
   "outputs": [],
   "source": [
    "%matplotlib inline\n",
    "import numpy as np\n",
    "import math\n",
    "import matplotlib.pyplot as plt\n",
    "from scipy.stats import norm"
   ]
  },
  {
   "cell_type": "code",
   "execution_count": 7,
   "metadata": {
    "collapsed": false
   },
   "outputs": [
    {
     "name": "stdout",
     "output_type": "stream",
     "text": [
      "[ 26.47490708  26.74249765  27.00140447  27.25132412  27.49196171\n",
      "  27.72303147  27.94425734  28.15537348  28.35612484  28.54626763\n",
      "  28.72556987  28.8938118   29.05078636  29.19629963  29.33017119\n",
      "  29.45223453  29.56233737  29.66034199  29.7461255   29.81958013\n",
      "  29.88061341  29.92914842  29.96512389  29.98849436  29.99923031\n",
      "  29.99731815  29.9827603   29.95557516  29.91579711  29.86347637\n",
      "  29.79867897  29.72148654  29.63199622  29.53032035  29.41658635\n",
      "  29.29093636  29.15352701  29.00452905  28.84412701  28.67251885\n",
      "  28.48991549  28.29654044  28.0926293   27.87842933  27.65419889\n",
      "  27.42020696  27.1767326   26.92406439  26.66249987  26.39234494\n",
      "  26.11391327  25.82752572  25.53350968  25.2321985   24.92393082\n",
      "  24.60904998  24.28790334  23.9608417   23.62821862  23.29038981\n",
      "  22.94771254  22.60054494  22.24924546  21.89417223  21.53568248\n",
      "  21.17413196  20.80987433  20.44326067  20.07463888  19.70435318\n",
      "  19.33274361  18.96014551  18.58688907  18.21329889  17.8396935\n",
      "  17.46638501  17.09367868  16.72187257  16.35125718  15.98211517\n",
      "  15.614721    15.24934072  14.88623168  14.52564233  14.16781198\n",
      "  13.81297068  13.46133901  13.11312798  12.76853891  12.42776337\n",
      "  12.09098307  11.75836987  11.43008572  11.10628272  10.78710306\n",
      "  10.47267914  10.16313359   9.85857937   9.55911984   9.26484893\n",
      "   8.9758512    8.69220205   8.41396785   8.14120611   7.87396569\n",
      "   7.61228698   7.35620212   7.10573523   6.86090262   6.62171303\n",
      "   6.38816791   6.16026161   5.93798171   5.72130924   5.51021894\n",
      "   5.30467956   5.10465411   4.91010017   4.72097011   4.53721142\n",
      "   4.35876694   4.18557517   4.01757054]\n"
     ]
    },
    {
     "data": {
      "image/png": "[encoded data removed]",
      "text/plain": [
       "<matplotlib.figure.Figure at 0x7f90c933d2b0>"
      ]
     },
     "metadata": {},
     "output_type": "display_data"
    }
   ],
   "source": [
    "def gaussian(size, sig, min_val=3, max_val=20):\n",
    "    mu = 0\n",
    "    x = np.linspace(mu - 0.15, 2, size)\n",
    "    dist = np.exp(-np.power(x - mu, 2.) / (2 * np.power(sig, 2.))) * max_val\n",
    "    \n",
    "    return dist[dist > min_val]\n",
    "\n",
    "distro = gaussian(350, 0.3, min_val=4, max_val=30)\n",
    "print(distro)\n",
    "plt.plot(distro)\n",
    "plt.show()"
   ]
  },
  {
   "cell_type": "code",
   "execution_count": null,
   "metadata": {
    "collapsed": true
   },
   "outputs": [],
   "source": []
  }
 ],
 "metadata": {
  "kernelspec": {
   "display_name": "Python 3",
   "language": "python",
   "name": "python3"
  },
  "language_info": {
   "codemirror_mode": {
    "name": "ipython",
    "version": 3
   },
   "file_extension": ".py",
   "mimetype": "text/x-python",
   "name": "python",
   "nbconvert_exporter": "python",
   "pygments_lexer": "ipython3",
   "version": "3.6.0"
  }
 },
 "nbformat": 4,
 "nbformat_minor": 2
}
