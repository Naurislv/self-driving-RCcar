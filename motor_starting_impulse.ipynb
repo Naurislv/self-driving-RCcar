{
 "cells": [
  {
   "cell_type": "code",
   "execution_count": 39,
   "metadata": {
    "collapsed": true
   },
   "outputs": [],
   "source": [
    "%matplotlib inline\n",
    "import numpy as np\n",
    "import math\n",
    "import matplotlib.pyplot as plt\n",
    "from scipy.stats import norm"
   ]
  },
  {
   "cell_type": "code",
   "execution_count": 42,
   "metadata": {
    "collapsed": false
   },
   "outputs": [
    {
     "name": "stdout",
     "output_type": "stream",
     "text": [
      "[ 26.47490708  28.5367785   29.73789289  29.96057819  29.18266411\n",
      "  27.48112018  25.0195028   22.0220461   18.74007862  15.41771092\n",
      "  12.26318096   9.4302048    7.01090142   5.0391971 ]\n"
     ]
    },
    {
     "data": {
      "image/png": "[encoded data removed]",
      "text/plain": [
       "<matplotlib.figure.Figure at 0x7fc22b0f0128>"
      ]
     },
     "metadata": {},
     "output_type": "display_data"
    }
   ],
   "source": [
    "def gaussian(size, sig, min_val=3, max_val=20):\n",
    "    mu = 0\n",
    "    x = np.linspace(mu - 0.15, 2, size)\n",
    "    dist = np.exp(-np.power(x - mu, 2.) / (2 * np.power(sig, 2.))) * max_val\n",
    "    \n",
    "    return dist[dist > min_val]\n",
    "\n",
    "distro = gaussian(40, 0.3, min_val=4, max_val=30)\n",
    "print(distro)\n",
    "plt.plot(distro)\n",
    "plt.show()"
   ]
  }
 ],
 "metadata": {
  "kernelspec": {
   "display_name": "Python 3",
   "language": "python",
   "name": "python3"
  },
  "language_info": {
   "codemirror_mode": {
    "name": "ipython",
    "version": 3
   },
   "file_extension": ".py",
   "mimetype": "text/x-python",
   "name": "python",
   "nbconvert_exporter": "python",
   "pygments_lexer": "ipython3",
   "version": "3.6.0"
  }
 },
 "nbformat": 4,
 "nbformat_minor": 2
}
