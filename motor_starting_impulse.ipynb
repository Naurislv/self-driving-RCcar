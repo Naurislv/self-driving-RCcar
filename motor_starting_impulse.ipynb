{
 "cells": [
  {
   "cell_type": "code",
   "execution_count": 2,
   "metadata": {
    "collapsed": true
   },
   "outputs": [],
   "source": [
    "%matplotlib inline\n",
    "import numpy as np\n",
    "import math\n",
    "import matplotlib.pyplot as plt\n",
    "from scipy.stats import norm"
   ]
  },
  {
   "cell_type": "code",
   "execution_count": 29,
   "metadata": {
    "collapsed": false
   },
   "outputs": [
    {
     "name": "stdout",
     "output_type": "stream",
     "text": [
      "[ 12.13061319  13.79285663  15.38732936  16.84262728  18.08814315\n",
      "  19.05968397  19.7049331   19.98811293  19.89327034  19.4257652\n",
      "  18.61176867  17.49583673  16.1368718   14.6029817   12.96585897\n",
      "  11.29532174   9.65458209   8.0966602    6.66217302   5.37852834\n",
      "   4.26038234   3.31109203]\n"
     ]
    },
    {
     "data": {
      "image/png": "[encoded data removed]",
      "text/plain": [
       "<matplotlib.figure.Figure at 0x7fc22b33f2e8>"
      ]
     },
     "metadata": {},
     "output_type": "display_data"
    }
   ],
   "source": [
    "def gaussian(size, sig, min_val=3, max_val=20):\n",
    "    mu = 0\n",
    "    x = np.linspace(mu - 0.1, 0.3, size)\n",
    "    dist = np.exp(-np.power(x - mu, 2.) / (2 * np.power(sig, 2.))) * max_val\n",
    "    \n",
    "    return dist[dist > min_val]\n",
    "\n",
    "distro = gaussian(30, 0.1)\n",
    "print(distro)\n",
    "plt.plot(distro)\n",
    "plt.show()"
   ]
  }
 ],
 "metadata": {
  "kernelspec": {
   "display_name": "Python 3",
   "language": "python",
   "name": "python3"
  },
  "language_info": {
   "codemirror_mode": {
    "name": "ipython",
    "version": 3
   },
   "file_extension": ".py",
   "mimetype": "text/x-python",
   "name": "python",
   "nbconvert_exporter": "python",
   "pygments_lexer": "ipython3",
   "version": "3.6.0"
  }
 },
 "nbformat": 4,
 "nbformat_minor": 2
}
